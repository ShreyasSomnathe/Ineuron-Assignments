{
 "cells": [
  {
   "cell_type": "markdown",
   "id": "4e2ef2db",
   "metadata": {},
   "source": [
    "1. To what does a relative path refer?\n",
    "\n",
    "Solution:The relative path is the path to some file with respect to your current working directory (PWD).\n",
    "\n",
    "2. What does an absolute path start with your operating system?\n",
    "\n",
    "Solution:An absolute path always starts with the root folder such as / or C:.\n",
    "\n",
    "3. What do the functions os.getcwd() and os.chdir() do?\n",
    "\n",
    "Solution:getcwd(): CWD stands for Current Working Directory. This function allows you to see what your current working directory is.\n",
    "chdir(\"path-to-dir\"): Short for CHange DIRectory, this function allows you to set the current working directory to a path of your choice.\n",
    "\n",
    "4. What are the . and .. folders?\n",
    "\n",
    "Solution:The . is the current directory, while .. signifies the parent directory.\n",
    "\n",
    "5. In C:\\bacon\\eggs\\spam.txt, which part is the dir name, and which part is the base name?\n",
    "\n",
    "Solution:C:\\bacon\\eggs is dir name and spam.txt is base name\n",
    "\n",
    "6. What are the three “mode” arguments that can be passed to the open() function?\n",
    "\n",
    "Solution:The string 'r' for read mode, 'w' for write mode, and 'a' for append mode\n",
    "\n",
    "7. What happens if an existing file is opened in write mode?\n",
    "\n",
    "Solution:if an existing file is opened, its contents are discarded and the file is treated as a new empty file.\n",
    "\n",
    "8. How do you tell the difference between read() and readlines()?\n",
    "\n",
    "Solution:The read() method returns the file’s entire contents as a single string value. The readlines() method returns a list of strings, where each string is a line from the file’s contents.\n",
    "\n",
    "9. What data structure does a shelf value resemble?\n",
    "\n",
    "Solution:A shelf value resembles a dictionary value; it has keys and values, along with keys() and values() methods that work similarly to the dictionary methods of the same names."
   ]
  }
 ],
 "metadata": {
  "kernelspec": {
   "display_name": "Python 3 (ipykernel)",
   "language": "python",
   "name": "python3"
  },
  "language_info": {
   "codemirror_mode": {
    "name": "ipython",
    "version": 3
   },
   "file_extension": ".py",
   "mimetype": "text/x-python",
   "name": "python",
   "nbconvert_exporter": "python",
   "pygments_lexer": "ipython3",
   "version": "3.9.6"
  }
 },
 "nbformat": 4,
 "nbformat_minor": 5
}
