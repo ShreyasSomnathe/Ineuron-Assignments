1. What does RGBA stand for?
RGBA(Red-Green-Blue-Alpha)
RGBA stands for red green blue alpha. While it is sometimes described as a color space, it is actually a three-channel RGB color model supplemented with a fourth alpha channel.
The RGB color model is extended in this specification to include “alpha” to allow specification of the opacity of a color

2. From the Pillow module, how do you get the RGBA value of any images?
a.import the Image module from the Pillow library
'from PIL import Image'
b.Open any image and get the RAGBAG values.
'img = Image.open(‘image.png’)
rgba = img.convert(“RGBA”)
datas = rgba.getdata()''

3. What is a box tuple, and how does it work?
The box. tuple submodule provides read-only access for the tuple userdata type. It allows, for a single tuple: selective retrieval of the field contents, retrieval of information about size, iteration over all the fields, and conversion to a Lua table.

4. Use your image and load in notebook then, How can you find out the width and height of an
Image object?
Pillow (PIL): Get image size (width, height) with size,width, height

5. What method would you call to get Image object for a 100×100 image, excluding the lower-left
quarter of it?
The image processing library Pillow (PIL) of Python provides Image.crop() for cutting out a partial area of an image.
Use resize() to resize the whole image instead of cutting out a part of the image, and use putalpha() to create a transparent image by cutting out a shape other than a rectangle (such as a circle).
6. After making changes to an Image object, how could you save it as an image file?
PIL is the Python Imaging Library which provides the python interpreter with image editing capabilities. The Image module provides a class with the same name which is used to represent a PIL image. The module also provides a number of factory functions, including functions to load images from files, and to create new images.
Image.save() Saves this image under the given filename. If no format is specified, the format to use is determined from the filename extension, if possible.
Syntax: Image.save(fp, format=None, **params)
Parameters:
fp – A filename (string), pathlib.Path object or file object.
format – Optional format override. If omitted, the format to use is determined from the filename extension. 
7. What module contains Pillow’s shape-drawing code?
Pillow provides a drawing module called ImageDraw that you can use to create simple 2D graphics on your Image objects. According to Pillow's documentation, “you can use this module to create new images, annotate or retouch existing images, and to generate graphics on the fly for web use
8. Image objects do not have drawing methods. What kind of object does? How do you get this kind
of object?
Wand Drawing() function in Python
wand. drawing. Drawing object buffers instructions for drawing shapes into images, and then it can draw these shapes into zero or more images
Syntax : with Drawing() as draw