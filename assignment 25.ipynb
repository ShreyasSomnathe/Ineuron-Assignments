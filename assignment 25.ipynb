{
 "cells": [
  {
   "cell_type": "code",
   "execution_count": null,
   "id": "9af6f871",
   "metadata": {},
   "outputs": [],
   "source": [
    "1) . What is the difference between enclosing a list comprehension in square brackets and\n",
    "parentheses?"
   ]
  },
  {
   "cell_type": "code",
   "execution_count": null,
   "id": "74d7bc3e",
   "metadata": {},
   "outputs": [],
   "source": [
    "Square brackets are lists while parentheses are tuples.\n",
    "\n",
    "A list is mutable, meaning you can change its contents:\n",
    "\n",
    ">>> x = [1,2]\n",
    ">>> x.append(3)\n",
    ">>> x\n",
    "[1, 2, 3]\n",
    "while tuples are not:\n",
    "\n",
    ">>> x = (1,2)\n",
    ">>> x\n",
    "(1, 2)\n",
    ">>> x.append(3)\n",
    "Traceback (most recent call last):\n",
    "  File \"<stdin>\", line 1, in <module>\n",
    "AttributeError: 'tuple' object has no attribute 'append'\n",
    "The other main difference is that a tuple is hashable, meaning that you can use it as a key to a dictionary, among other things. For example:\n",
    "\n",
    ">>> x = (1,2)\n",
    ">>> y = [1,2]\n",
    ">>> z = {}\n",
    ">>> z[x] = 3\n",
    ">>> z\n",
    "{(1, 2): 3}\n",
    ">>> z[y] = 4\n",
    "Traceback (most recent call last):\n",
    "  File \"<stdin>\", line 1, in <module>\n",
    "TypeError: unhashable type: 'list'"
   ]
  },
  {
   "cell_type": "code",
   "execution_count": null,
   "id": "24d55b91",
   "metadata": {},
   "outputs": [],
   "source": [
    "2) What is the relationship between generators and iterators?"
   ]
  },
  {
   "cell_type": "code",
   "execution_count": null,
   "id": "14448df0",
   "metadata": {},
   "outputs": [],
   "source": [
    "Iterator\n",
    "An iterator is an object which contains a countable number of values and it is used to iterate over iterable objects like\n",
    "list, tuples, sets, etc. \n",
    "Iterators are implemented using a class and a local variable for iterating is not required here, \n",
    "It follows lazy evaluation where the evaluation of the expression will be on hold and stored in the memory \n",
    "until the item is called specifically which helps us to avoid repeated evaluation.\n",
    "\n"
   ]
  },
  {
   "cell_type": "code",
   "execution_count": 2,
   "id": "f58edb9e",
   "metadata": {},
   "outputs": [
    {
     "name": "stdout",
     "output_type": "stream",
     "text": [
      "I\n",
      "am\n",
      "Awesome\n"
     ]
    }
   ],
   "source": [
    "iter_list = iter(['I', 'am', 'Awesome'])\n",
    "print(next(iter_list))\n",
    "print(next(iter_list))\n",
    "print(next(iter_list))"
   ]
  },
  {
   "cell_type": "code",
   "execution_count": null,
   "id": "aba3d1c4",
   "metadata": {},
   "outputs": [],
   "source": [
    "It is another way of creating iterators in a simple way where it uses the keyword “yield” instead of \n",
    "returning it in a defined function. Generators are implemented using a function. Just as iterators, \n",
    "generators also follow lazy evaluation.\n",
    "Here, the yield function returns the data without affecting or exiting the function."
   ]
  },
  {
   "cell_type": "code",
   "execution_count": 3,
   "id": "39811207",
   "metadata": {},
   "outputs": [
    {
     "name": "stdout",
     "output_type": "stream",
     "text": [
      "The square of numbers 1,2,3 are : \n",
      "1\n",
      "4\n",
      "9\n"
     ]
    }
   ],
   "source": [
    "def sq_numbers(n):\n",
    "    for i in range(1, n+1):\n",
    "        yield i*i\n",
    "  \n",
    "  \n",
    "a = sq_numbers(3)\n",
    "  \n",
    "print(\"The square of numbers 1,2,3 are : \")\n",
    "print(next(a))\n",
    "print(next(a))\n",
    "print(next(a))"
   ]
  },
  {
   "cell_type": "code",
   "execution_count": null,
   "id": "ced2d937",
   "metadata": {},
   "outputs": [],
   "source": [
    "3) What are the signs that a function is a generator function?"
   ]
  },
  {
   "cell_type": "code",
   "execution_count": null,
   "id": "6b98f7ff",
   "metadata": {},
   "outputs": [],
   "source": [
    "It is fairly simple to create a generator in Python. It is as easy as defining a normal function,\n",
    "but with a yield statement instead of a return statement.\n",
    "\n",
    "If a function contains at least one yield statement (it may contain other yield or return statements),\n",
    "it becomes a generator function. Both yield and return will return some value from a function.\n",
    "\n"
   ]
  },
  {
   "cell_type": "code",
   "execution_count": null,
   "id": "d098b55e",
   "metadata": {},
   "outputs": [],
   "source": [
    "4) What is the purpose of a yield statement?"
   ]
  },
  {
   "cell_type": "code",
   "execution_count": null,
   "id": "eb3024f9",
   "metadata": {},
   "outputs": [],
   "source": [
    "The yield statement suspends function’s execution and sends a value back to the caller, \n",
    "but retains enough state to enable function to resume where it is left off. \n",
    "When resumed, the function continues execution immediately after the last yield run."
   ]
  },
  {
   "cell_type": "code",
   "execution_count": 4,
   "id": "d96c5510",
   "metadata": {},
   "outputs": [
    {
     "name": "stdout",
     "output_type": "stream",
     "text": [
      "1\n",
      "2\n",
      "3\n"
     ]
    }
   ],
   "source": [
    "# A Simple Python program to demonstrate working\n",
    "# of yield\n",
    "  \n",
    "# A generator function that yields 1 for the first time,\n",
    "# 2 second time and 3 third time\n",
    "def simpleGeneratorFun():\n",
    "    yield 1\n",
    "    yield 2\n",
    "    yield 3\n",
    "  \n",
    "# Driver code to check above generator function\n",
    "for value in simpleGeneratorFun(): \n",
    "    print(value)"
   ]
  },
  {
   "cell_type": "code",
   "execution_count": null,
   "id": "22d4eda5",
   "metadata": {},
   "outputs": [],
   "source": [
    "Return sends a specified value back to its caller whereas Yield can produce a sequence of values.\n",
    "We should use yield when we want to iterate over a sequence, \n",
    "but don’t want to store the entire sequence in memory."
   ]
  },
  {
   "cell_type": "code",
   "execution_count": null,
   "id": "c91ee876",
   "metadata": {},
   "outputs": [],
   "source": [
    "5) What is the relationship between map calls and list comprehensions? Make a comparison and\n",
    "contrast between the two."
   ]
  },
  {
   "cell_type": "code",
   "execution_count": null,
   "id": "b83ac6f6",
   "metadata": {},
   "outputs": [],
   "source": [
    "Map VS List Comprehension\n",
    "List comprehension is more concise and easier to read as compared to map.\n",
    "List comprehension allows filtering. In map, we have no such facility. For example, to print all even numbers in range of 100, we can write [n for n in range(100) if n%2 == 0]. There is no alternate for it in map\n",
    "List comprehension are used when a list of results is required as map only returns a map object and does not return any list.\n",
    "List comprehension is faster than map when we need to evaluate expressions that are too long or complicated to express\n",
    "Map is faster in case of calling an already defined function (as no lambda is required).\n",
    "Comparing Execution Time\n",
    "We will be using an in-built python library ‘timeit‘."
   ]
  },
  {
   "cell_type": "code",
   "execution_count": null,
   "id": "c583e225",
   "metadata": {},
   "outputs": [],
   "source": [
    "import timeit\n",
    " #calculate performance , print number\n",
    "\n",
    " #List comprehension\n",
    "\n",
    "x = timeit.timeit (1(x for x in range(100)I, number = 999999) \n",
    "print(x)\n",
    "\n",
    "\n",
    " #Map(without lambda)\n",
    "\n",
    "s = 'def func() : print(i)'\n",
    "y = timeit.timeit('map(func,range(100))',number = 999999,setup =s) \n",
    "print(y)\n",
    "\n"
   ]
  }
 ],
 "metadata": {
  "kernelspec": {
   "display_name": "Python 3",
   "language": "python",
   "name": "python3"
  },
  "language_info": {
   "codemirror_mode": {
    "name": "ipython",
    "version": 3
   },
   "file_extension": ".py",
   "mimetype": "text/x-python",
   "name": "python",
   "nbconvert_exporter": "python",
   "pygments_lexer": "ipython3",
   "version": "3.8.8"
  }
 },
 "nbformat": 4,
 "nbformat_minor": 5
}
