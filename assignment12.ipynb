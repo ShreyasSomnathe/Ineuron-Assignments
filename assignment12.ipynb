{
 "cells": [
  {
   "cell_type": "markdown",
   "id": "ac6f360b",
   "metadata": {},
   "source": [
    "1. In what modes should the PdfFileReader() and PdfFileWriter() File objects will be opened?\n",
    "\n",
    "Solution: PdfFileReader() needs to be opened in read-binary mode by passing 'rb' as the second argument to open(). Likewise, the File object passed to PyPDF2. PdfFileWriter() needs to be opened in write-binary mode with 'wb'.\n",
    "\n",
    "2. From a PdfFileReader object, how do you get a Page object for page 5?\n",
    "\n",
    "Solution:To extract text from a page, you need to get a Page object, which represents a single page of a PDF, from a PdfFileReader object. You can get a Page object by calling the getPage() on a PdfFileReader object and passing it the page number of the page you’re interested in—in our case, 5.\n",
    "\n",
    "3. What PdfFileReader variable stores the number of pages in the PDF document?\n",
    "\n",
    "Solution:The total number of pages in the document is stored in the numPages attribute of a PdfFileReader object.\n",
    "\n",
    "4. If a PdfFileReader object’s PDF is encrypted with the password swordfish, what must you do\n",
    "before you can obtain Page objects from it?\n",
    "\n",
    "Solution:o read an encrypted PDF, call the decrypt() function and pass the password as a string. After you call decrypt() with the correct password i.e. swordfish, you’ll see that calling getPage() no longer causes an error. If given the wrong password, the decrypt() function will return 0 and getPage() will continue to fail. Note that the decrypt() method decrypts only the PdfFileReader object, not the actual PDF file. After your program terminates, the file on your hard drive remains encrypted. Your program will have to call decrypt() again the next time it is run.\n",
    "\n",
    "5. What methods do you use to rotate a page?\n",
    "\n",
    "Solution:The pages of a PDF can also be rotated in 90-degree increments with the rotateClockwise() and rotateCounterClockwise() methods. Pass one of the integers 90, 180, or 270 to these methods.\n",
    "\n",
    "6. What is the difference between a Run object and a Paragraph object?\n",
    "\n",
    "Solution:Each of these Paragraph objects has a text attribute that contains a string of the text in that paragraph (without the style information). Each Paragraph object also has a runs attribute that is a list of Run objects. Run objects also have a text attribute, containing just the text in that particular run.\n",
    "\n",
    "7. How do you obtain a list of Paragraph objects for a Document object that’s stored in a variable\n",
    "named doc?\n",
    "\n",
    "Solution:we open a .docx file in Python, call docx.Document(), and pass the filename demo.docx. This will return a Document object, which has a paragraphs attribute that is a list of Paragraph objects. When we call len() on doc.paragraphs, it returns 7, which tells us that there are seven Paragraph objects in this document \n",
    "\n",
    "8. What type of object has bold, underline, italic, strike, and outline variables?\n",
    "\n",
    "Solution:Runs can be further styled using text attributes\n",
    "\n",
    "9. What is the difference between False, True, and None for the bold variable?\n",
    "\n",
    "Solution:  Each attribute can be set to one of three values: True (the attribute is always enabled, no matter what other styles are applied to the run), False (the attribute is always disabled), or None (defaults to whatever the run’s style is set to).\n",
    "\n",
    "10. How do you create a Document object for a new Word document?\n",
    "\n",
    "Solution:To create your own .docx file, call docx.Document() to return a new, blank Word Document object.\n",
    "\n",
    "11. How do you add a paragraph with the text 'Hello, there!' to a Document object stored in a\n",
    "variable named doc?\n",
    "\n",
    "Solution: The add_paragraph() document method adds a new paragraph of text to the document and returns a reference to the Paragraph object that was added. When you’re done adding text, pass a filename string to the save() document method to save the Document object to a file.\n",
    "\n",
    "12. What integers represent the levels of headings available in Word documents?\n",
    "\n",
    "Solution:An integer from 0 to 4. The integer 0 makes the heading the Title style, which is used for the top of the document. Integers 1 to 4 are for various heading levels, with 1 being the main heading and 4 the lowest subheading."
   ]
  }
 ],
 "metadata": {
  "kernelspec": {
   "display_name": "Python 3 (ipykernel)",
   "language": "python",
   "name": "python3"
  },
  "language_info": {
   "codemirror_mode": {
    "name": "ipython",
    "version": 3
   },
   "file_extension": ".py",
   "mimetype": "text/x-python",
   "name": "python",
   "nbconvert_exporter": "python",
   "pygments_lexer": "ipython3",
   "version": "3.9.6"
  }
 },
 "nbformat": 4,
 "nbformat_minor": 5
}
