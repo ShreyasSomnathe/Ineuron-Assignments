{
 "cells": [
  {
   "cell_type": "code",
   "execution_count": null,
   "id": "16b0e50a",
   "metadata": {},
   "outputs": [],
   "source": [
    "#1. What does one mean by the term &quot;machine learning&quot;?"
   ]
  },
  {
   "cell_type": "code",
   "execution_count": null,
   "id": "4f9cefb9",
   "metadata": {},
   "outputs": [],
   "source": [
    "\n",
    "Machine learning is the concept that a computer program can learn and adapt to new data\n",
    "without human intervention. Machine learning is a field of artificial intelligence (AI) \n",
    "that keeps a computer's built-in algorithms current regardless of changes in the worldwide economy\n",
    "\n",
    "What is classical machine learning?\n",
    "It refers to the process of building algorithms that can learn from existing observations \n",
    "(or data sets), and leverage that learning to predict new observations, or determine the output of new input.\n",
    "\n"
   ]
  },
  {
   "cell_type": "code",
   "execution_count": null,
   "id": "d9aa0e9d",
   "metadata": {},
   "outputs": [],
   "source": [
    "#2.Can you think of 4 distinct types of issues where it shines?"
   ]
  },
  {
   "cell_type": "code",
   "execution_count": null,
   "id": "0c20b6bd",
   "metadata": {},
   "outputs": [],
   "source": [
    "\n",
    "1. Social Media Features\n",
    "\n",
    "Social media platforms use machine learning algorithms and approaches to create some attractive \n",
    "and excellent features. For instance, Facebook notices and records your activities, chats, likes, \n",
    "and comments, and the time you spend on specific kinds of posts.\n",
    "Machine learning learns from your own experience and makes friends and page suggestions for your profile.\n",
    "\n",
    "2. Product Recommendations\n",
    "\n",
    "Product recommendation is one of the most popular and known applications of machine learning. \n",
    "Product recommendation is one of the stark features of almost every e-commerce website today, \n",
    "which is an advanced application of machine learning techniques. Using machine learning and AI, \n",
    "websites track your behavior based on your previous purchases, searching patterns, and cart history, \n",
    "and then make product recommendations.\n",
    "\n",
    "3. Image Recognition\n",
    "\n",
    "Image recognition, which is an approach for cataloging and detecting a feature or an object in the \n",
    "digital image, is one of the most significant and notable machine learning and AI techniques. \n",
    "This technique is being adopted for further analysis, such as pattern recognition, face detection, and face recognition.\n",
    "\n",
    "4. Sentiment Analysis\n",
    "Sentiment analysis is one of the most necessary applications of machine learning.\n",
    "Sentiment analysis is a real-time machine learning application that determines the emotion or opinion of the speaker \n",
    "or the writer. For instance, if someone has written a review or email (or any form of a document), a sentiment analyzer\n",
    "will instantly find out the actual thought and tone of the text. This sentiment analysis application can be used to analyze \n",
    "a review based website, decision-making applications, etc.\n",
    "\n"
   ]
  },
  {
   "cell_type": "code",
   "execution_count": null,
   "id": "8cd2f8d2",
   "metadata": {},
   "outputs": [],
   "source": [
    "3.What is a labeled training set, and how does it work?"
   ]
  },
  {
   "cell_type": "code",
   "execution_count": null,
   "id": "da72934d",
   "metadata": {},
   "outputs": [],
   "source": [
    "\n",
    "You split up the data containing known response variable values into two pieces. \n",
    "The training set is used to train the algorithm, and then you use the trained model on the test set to predict the \n",
    "response variable values that are already known\n"
   ]
  },
  {
   "cell_type": "code",
   "execution_count": null,
   "id": "32047964",
   "metadata": {},
   "outputs": [],
   "source": [
    "4.What are the two most important tasks that are supervised?"
   ]
  },
  {
   "cell_type": "code",
   "execution_count": null,
   "id": "a8966c84",
   "metadata": {},
   "outputs": [],
   "source": [
    "\n",
    "The two most common supervised learning tasks are regression and classification.\n",
    "In a regression problem we our prediciton is a scalar value.\n",
    "When we're trying to solve a classification problem, our output is either 1 or 0.\n"
   ]
  },
  {
   "cell_type": "code",
   "execution_count": null,
   "id": "77d1361b",
   "metadata": {},
   "outputs": [],
   "source": [
    "5) Can you name 4 common unsupervised tasks?"
   ]
  },
  {
   "cell_type": "code",
   "execution_count": null,
   "id": "967743fc",
   "metadata": {},
   "outputs": [],
   "source": [
    "\n",
    "Common unsupervised tasks include clustering, visualization, dimensionality reduction and association rule learning.\n"
   ]
  },
  {
   "cell_type": "code",
   "execution_count": null,
   "id": "bb2c2d6e",
   "metadata": {},
   "outputs": [],
   "source": [
    "6) What type of Machine Learning algorithm would you use to allow a robot to walk in various unknown terrains?"
   ]
  },
  {
   "cell_type": "code",
   "execution_count": null,
   "id": "0912e33b",
   "metadata": {},
   "outputs": [],
   "source": [
    "\n",
    "I would use a reinforcement learning approach. Reinforcement learning is a system where an \"agent\"\n",
    "observes the environment, selects and performs actions, then recieves a reward or punishment \n",
    "based on the result of the action. Over time the agent learns by itself what is the most productive strategy.\n"
   ]
  },
  {
   "cell_type": "code",
   "execution_count": null,
   "id": "0441c745",
   "metadata": {},
   "outputs": [],
   "source": [
    "7) What type of algorithm would you use to segment your customers into multiple groups?"
   ]
  },
  {
   "cell_type": "code",
   "execution_count": null,
   "id": "1c7e9b4e",
   "metadata": {},
   "outputs": [],
   "source": [
    "\n",
    "I would use some sort of clustering algorithm that can find the decision boundaries in the groups automatically. \n",
    "This is an unsupervised approach. However, if I already knew the categories of my customers,\n",
    "then I would choose a supervised approach and go with a classification algorithm.\n"
   ]
  },
  {
   "cell_type": "code",
   "execution_count": null,
   "id": "8486d7ee",
   "metadata": {},
   "outputs": [],
   "source": [
    "8) Would you frame the problem of spam detection as a supervised learning problem or an unsupervised learning problem?"
   ]
  },
  {
   "cell_type": "code",
   "execution_count": null,
   "id": "99df1217",
   "metadata": {},
   "outputs": [],
   "source": [
    "\n",
    "I would frame it as a supervised learning problem because humans have a general idea about what spam is and what it isn't.\n",
    "We can use this notion to create a labeled dataset for an algorithm to learn from.\n"
   ]
  },
  {
   "cell_type": "code",
   "execution_count": null,
   "id": "04ca8f1b",
   "metadata": {},
   "outputs": [],
   "source": [
    "9) What is an online learning system?"
   ]
  },
  {
   "cell_type": "code",
   "execution_count": null,
   "id": "9a309764",
   "metadata": {},
   "outputs": [],
   "source": [
    "\n",
    "An online learning system learns from new data on-the-fly. As a result, \n",
    "the system is trained incrementally either by using one example at a time or using a mini-batch approach.\n",
    "This keeps each learning step cheap and memory efficient.\n"
   ]
  },
  {
   "cell_type": "code",
   "execution_count": null,
   "id": "bf4cc30d",
   "metadata": {},
   "outputs": [],
   "source": [
    "10) What is out-of-core learning?"
   ]
  },
  {
   "cell_type": "code",
   "execution_count": null,
   "id": "7b10c30f",
   "metadata": {},
   "outputs": [],
   "source": [
    "\n",
    "Out-of-core learning is used when a dataset is too large to fit into a computer's memory. \n",
    "The algorithm loads part of the data, runs a training step, then repeats the process until it has run on all the data.\n",
    "\n"
   ]
  },
  {
   "cell_type": "code",
   "execution_count": null,
   "id": "a0705587",
   "metadata": {},
   "outputs": [],
   "source": [
    "11.What kind of learning algorithm makes predictions using a similarity measure?"
   ]
  },
  {
   "cell_type": "code",
   "execution_count": null,
   "id": "15ea14de",
   "metadata": {},
   "outputs": [],
   "source": [
    "\n",
    "Instance-based learning algorithms use a measure of similarity to generalize to new cases. \n",
    "In an instance-based learning system, the algorithm learns the examples by heart, \n",
    "then uses the similarity measure to generalize.\n"
   ]
  },
  {
   "cell_type": "code",
   "execution_count": null,
   "id": "6c4c8333",
   "metadata": {},
   "outputs": [],
   "source": [
    "12.What&#39;s the difference between a model parameter and a hyperparameter in a learning\n",
    "algorithm?"
   ]
  },
  {
   "cell_type": "code",
   "execution_count": null,
   "id": "01cdbbe5",
   "metadata": {},
   "outputs": [],
   "source": [
    "\n",
    "A hyperparameter is a parameter of the learning algorithm, not the model. For example, in a \n",
    "simple linear regression problem our model is parameterized by theta which is a vector of weights.\n",
    "In order to find the best values for theta we have a cost function which is run repeatedly by the gradient descent algorithm. \n",
    "Gradient descent has a hyperparameter called alpha which is the learning rate of the algorithm.\n"
   ]
  },
  {
   "cell_type": "code",
   "execution_count": null,
   "id": "fd835be5",
   "metadata": {},
   "outputs": [],
   "source": [
    "13.What are the criteria that model-based learning algorithms look for? What is the most popular\n",
    "method they use to achieve success? What method do they use to make predictions?"
   ]
  },
  {
   "cell_type": "code",
   "execution_count": null,
   "id": "0ea5f9cd",
   "metadata": {},
   "outputs": [],
   "source": [
    "\n",
    "The goal for a model-based algorithm is to be able to generalize to new examples.\n",
    "To do this, model based algorithms search for optimal values for the model's parameters, often called theta. \n",
    "This searching, or \"learning\", is what machine learning is all about. Model-based system learn by minimizing a cost function\n",
    "that measures how bad the system is at making predicitons on new data, plus a penalty for model complexity if the model is \n",
    "regularized. To make a prediction, a new instance's features are fed into a hypothesis function which uses the minimized theta\n",
    "found by repeatedly running the cost function.\n",
    "\n"
   ]
  },
  {
   "cell_type": "code",
   "execution_count": null,
   "id": "38cd4876",
   "metadata": {},
   "outputs": [],
   "source": [
    "14.Can you name four of the most important Machine Learning challenges?"
   ]
  },
  {
   "cell_type": "code",
   "execution_count": null,
   "id": "ef454eaf",
   "metadata": {},
   "outputs": [],
   "source": [
    "\n",
    "Not gathering enough data, or sampling noise. Sampling noise means we'll have non-representative data as a result of chance.\n",
    "\n",
    "Using a dataset that is not representative of the cases you want to generalize to. This is called sampling bias. For example, if you want to train an algorithm with \"cat videos\", and all your videos are from YouTube, you're actually training an algorithm to learn about \"YouTube cat videos.\"\n",
    "\n",
    "Your dataset is full of missing values, outliers, and noise (poor measurments).\n",
    "\n",
    "The features in your dataset are irrelevant. Garbage in, garbage out.\n",
    "\n",
    "Feature selection - choose the most relevant features from your dataset\n",
    "Feature extraction - combine features in your dataset to generate a new, more useful feature\n",
    "When your model performs well on the training data, but not on test data, you've over fit your model. Models that suffer from overfitting do not generalize well to new examples. Overfitting happens when the model is too complex relative to the amount and noisiness of the data.\n",
    "\n",
    "Try simplyfying the model by reducing the number of features in the data or constraining the parameters by reducing the degrees of freedom.\n",
    "Gather more training data.\n",
    "Reduce noise in the training data by fixing errors and removing outliers.\n",
    "When your model is too simple to learn the underlying structure of the data you've underfit your model.\n",
    "\n",
    "Select a more powerful model with more parameters\n",
    "Use feature engineering to feed better features to the model\n",
    "Reduce the constraints of the model (increase degrees of freedom, reduce regularization parameter, etc.)\n",
    "\n"
   ]
  },
  {
   "cell_type": "code",
   "execution_count": null,
   "id": "3002f855",
   "metadata": {},
   "outputs": [],
   "source": [
    "15.What happens if the model performs well on the training data but fails to generalize the results\n",
    "to new situations? Can you think of three different options?"
   ]
  },
  {
   "cell_type": "code",
   "execution_count": null,
   "id": "d12147fd",
   "metadata": {},
   "outputs": [],
   "source": [
    "\n",
    "This is a case where the model is overfitting the training data. To couteract overfitting,\n",
    "we can reduce the complexity of the model by removing features or constraining the parameters. \n",
    "We could gather more data. Finally we can reduce noisiness in the data by fixing errors and removing outliers.\n",
    "\n"
   ]
  },
  {
   "cell_type": "code",
   "execution_count": null,
   "id": "42113191",
   "metadata": {},
   "outputs": [],
   "source": [
    "16.What exactly is a test set, and why would you need one?"
   ]
  },
  {
   "cell_type": "code",
   "execution_count": null,
   "id": "97b39f18",
   "metadata": {},
   "outputs": [],
   "source": [
    "\n",
    "When we want to know how well our model generalizes to new cases we prefer to use a test set\n",
    "instead of actually deploying the system. To build the test set we split the training data \n",
    "(50-50, 60-40, 80-20 are common splits) into a training set and test set. Our model is training with the training set. \n",
    "Then we use the model to run predictions on the test set. Our error rate on the test set is called the generalization error \n",
    "or out-of-sample error. This error tells us how well our model performs on examples it has never seen before.\n",
    "\n"
   ]
  },
  {
   "cell_type": "code",
   "execution_count": null,
   "id": "218058d3",
   "metadata": {},
   "outputs": [],
   "source": [
    "17.What is a validation set&#39;s purpose?"
   ]
  },
  {
   "cell_type": "code",
   "execution_count": null,
   "id": "fbadd5c8",
   "metadata": {},
   "outputs": [],
   "source": [
    "\n",
    "Let's say we have a linear model and we want to perform some hyperparameter tuning to reduce the generalization error.\n",
    "One way to do this 100 different models with 100 different hyperparameter values using the training set and finding the\n",
    "generalization error with the test set. You find the best hyperparameter value gives you 5% generalization error.\n",
    "\n",
    "So you launch the model into production and find you're seeing 15% generalization error. This isn't going as expected.\n",
    "What happened?\n",
    "\n",
    "The problem is that for each iteration of hyperparameter tuning, you measured the generalization error then updated the\n",
    "model using the same test set. In other words, your produced the best generalization error for the test set.\n",
    "The test set no longer represents cases the model hasn't seen before.\n",
    "\n",
    "A common solution to this problem is to have a second holdout set called the validation set.\n",
    "You train multiple models with various hyperparameters using the training set, you select the model and hyperparameters \n",
    "that perform best on the validation set, and when you are happy about your model you run a single final test against\n",
    "the test set to get an estimate of the generalization error.\n"
   ]
  },
  {
   "cell_type": "code",
   "execution_count": null,
   "id": "d35df068",
   "metadata": {},
   "outputs": [],
   "source": [
    "18.What precisely is the train-dev kit, when will you need it, how do you put it to use?"
   ]
  },
  {
   "cell_type": "code",
   "execution_count": null,
   "id": "5714f40c",
   "metadata": {},
   "outputs": [],
   "source": [
    "\n",
    "Your model will not be generalizable to new examples.\n"
   ]
  },
  {
   "cell_type": "code",
   "execution_count": null,
   "id": "c7db3b87",
   "metadata": {},
   "outputs": [],
   "source": [
    "19) What is cross-validation and why would you prefer it to a validation set?\n"
   ]
  },
  {
   "cell_type": "code",
   "execution_count": null,
   "id": "12caaf42",
   "metadata": {},
   "outputs": [],
   "source": [
    "\n",
    "Cross-validation helps us compare models without wasting too much training data in the validation set.\n",
    "\n"
   ]
  }
 ],
 "metadata": {
  "kernelspec": {
   "display_name": "Python 3",
   "language": "python",
   "name": "python3"
  },
  "language_info": {
   "codemirror_mode": {
    "name": "ipython",
    "version": 3
   },
   "file_extension": ".py",
   "mimetype": "text/x-python",
   "name": "python",
   "nbconvert_exporter": "python",
   "pygments_lexer": "ipython3",
   "version": "3.8.8"
  }
 },
 "nbformat": 4,
 "nbformat_minor": 5
}
