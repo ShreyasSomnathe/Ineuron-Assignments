{
 "cells": [
  {
   "cell_type": "code",
   "execution_count": null,
   "id": "58069c95",
   "metadata": {},
   "outputs": [],
   "source": [
    "1. What does RGBA stand for?\n",
    "RGBA(Red-Green-Blue-Alpha)\n",
    "RGBA stands for red green blue alpha. While it is sometimes described as a color space, it is actually a three-channel RGB color model supplemented with a fourth alpha channel.\n",
    "The RGB color model is extended in this specification to include “alpha” to allow specification of the opacity of a color\n",
    "\n",
    "2. From the Pillow module, how do you get the RGBA value of any images?\n",
    "a.import the Image module from the Pillow library\n",
    "'from PIL import Image'\n",
    "b.Open any image and get the RAGBAG values.\n",
    "'img = Image.open(‘image.png’)\n",
    "rgba = img.convert(“RGBA”)\n",
    "datas = rgba.getdata()''\n",
    "\n",
    "3. What is a box tuple, and how does it work?\n",
    "The box. tuple submodule provides read-only access for the tuple userdata type. It allows, for a single tuple: selective retrieval of the field contents, retrieval of information about size, iteration over all the fields, and conversion to a Lua table.\n",
    "\n",
    "4. Use your image and load in notebook then, How can you find out the width and height of an\n",
    "Image object?\n",
    "Pillow (PIL): Get image size (width, height) with size,width, height\n",
    "\n",
    "5. What method would you call to get Image object for a 100×100 image, excluding the lower-left\n",
    "quarter of it?\n",
    "The image processing library Pillow (PIL) of Python provides Image.crop() for cutting out a partial area of an image.\n",
    "Use resize() to resize the whole image instead of cutting out a part of the image, and use putalpha() to create a transparent image by cutting out a shape other than a rectangle (such as a circle).\n",
    "6. After making changes to an Image object, how could you save it as an image file?\n",
    "PIL is the Python Imaging Library which provides the python interpreter with image editing capabilities. The Image module provides a class with the same name which is used to represent a PIL image. The module also provides a number of factory functions, including functions to load images from files, and to create new images.\n",
    "Image.save() Saves this image under the given filename. If no format is specified, the format to use is determined from the filename extension, if possible.\n",
    "Syntax: Image.save(fp, format=None, **params)\n",
    "Parameters:\n",
    "fp – A filename (string), pathlib.Path object or file object.\n",
    "format – Optional format override. If omitted, the format to use is determined from the filename extension. \n",
    "7. What module contains Pillow’s shape-drawing code?\n",
    "Pillow provides a drawing module called ImageDraw that you can use to create simple 2D graphics on your Image objects. According to Pillow's documentation, “you can use this module to create new images, annotate or retouch existing images, and to generate graphics on the fly for web use\n",
    "8. Image objects do not have drawing methods. What kind of object does? How do you get this kind\n",
    "of object?\n",
    "Wand Drawing() function in Python\n",
    "wand. drawing. Drawing object buffers instructions for drawing shapes into images, and then it can draw these shapes into zero or more images\n",
    "Syntax : with Drawing() as draw"
   ]
  }
 ],
 "metadata": {
  "kernelspec": {
   "display_name": "Python 3",
   "language": "python",
   "name": "python3"
  },
  "language_info": {
   "codemirror_mode": {
    "name": "ipython",
    "version": 3
   },
   "file_extension": ".py",
   "mimetype": "text/x-python",
   "name": "python",
   "nbconvert_exporter": "python",
   "pygments_lexer": "ipython3",
   "version": "3.8.8"
  }
 },
 "nbformat": 4,
 "nbformat_minor": 5
}
