{
 "cells": [
  {
   "cell_type": "markdown",
   "id": "0250bffc",
   "metadata": {},
   "source": [
    "1. Why are functions advantageous to have in your programs?\n",
    "Solution:Functions reduce the need for duplicate code. This makes programs shorter, easier to read, and easier to update. It make code look good and convenient.\n",
    "\n",
    "2. When does the code in a function run: when it's specified or when it's called?\n",
    "Solution: The funtion run when it is called.\n",
    "\n",
    "3. What statement creates a function?\n",
    "Solution: The “def” keyword is a statement for defining a function in Python. You start a function with the def keyword, specify a name followed by a colon (:) sign. The “def” call creates the function object and assigns it to the name given. You can further re-assign the same function object to other names.\n",
    "\n",
    "4. What is the difference between a function and a function call?\n",
    "Solution:A function consists of the def statement and the code in its def clause. A function call is what moves the program execution into the function, and the function call evaluates to the function’s return value.\n",
    "\n",
    "5. How many global scopes are there in a Python program? How many local scopes?\n",
    "Solution:There's only one global Python scope per program execution. This scope remains in existence until the program terminates and all its names are forgotten, and a local scope is created whenever a function is called(exists when function is being executed)\n",
    "\n",
    "6. What happens to variables in a local scope when the function call returns?\n",
    "Solution:When the execution of the function terminates (returns), the local variables are destroyed. Codelens helps you visualize this because the local variables disappear after the function returns.\n",
    "\n",
    "7. What is the concept of a return value? Is it possible to have a return value in an expression?\n",
    "Solution:A return statement ends the execution of a function, and returns control to the calling function. Execution resumes in the calling function at the point immediately following the call. A return statement can return a value to the calling function.Like any value, a return value can be used as part of an expression.\n",
    "\n",
    "8. If a function does not have a return statement, what is the return value of a call to that function?\n",
    "Solution: IT will be None.\n",
    "\n",
    "9. How do you make a function variable refer to the global variable?\n",
    "Solution:If you want to refer to a global variable in a function, you can use the global keyword to declare which variables are global.\n",
    "\n",
    "10. What is the data type of None?\n",
    "Solution:The data type of None is NoneType.\n",
    "\n",
    "11. What does the sentence import areallyourpetsnamederic do?\n",
    "Solution: This sentence will import the module name areallyourpetsnamederic. (which is not even a real module)\n",
    "\n",
    "12. If you had a bacon() feature in a spam module, what would you call it after importing spam?\n",
    "Solution: spam.bacon()\n",
    "\n",
    "13. What can you do to save a programme from crashing if it encounters an error?\n",
    "Solution: We can do error detection if something occurs or putting the error causing statement in try clause.\n",
    "\n",
    "14. What is the purpose of the try clause? What is the purpose of the except clause?\n",
    "Solution:The code that could potentially cause error is put into try clause. If an error is encountered, code goes to except clause. The try clause (the statement(s) between the try and except keywords) is executed. If no exception occurs, the except clause is skipped and execution of the try statement is finished. If an exception occurs during execution of the try clause, the rest of the clause is skipped.\n"
   ]
  }
 ],
 "metadata": {
  "kernelspec": {
   "display_name": "Python 3 (ipykernel)",
   "language": "python",
   "name": "python3"
  },
  "language_info": {
   "codemirror_mode": {
    "name": "ipython",
    "version": 3
   },
   "file_extension": ".py",
   "mimetype": "text/x-python",
   "name": "python",
   "nbconvert_exporter": "python",
   "pygments_lexer": "ipython3",
   "version": "3.9.6"
  }
 },
 "nbformat": 4,
 "nbformat_minor": 5
}
